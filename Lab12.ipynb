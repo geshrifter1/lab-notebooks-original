{
  "cells": [
    {
      "cell_type": "markdown",
      "metadata": {
        "id": "view-in-github",
        "colab_type": "text"
      },
      "source": [
        "<a href=\"https://colab.research.google.com/github/geshrifter1/lab-notebooks-original/blob/main/Lab12.ipynb\" target=\"_parent\"><img src=\"https://colab.research.google.com/assets/colab-badge.svg\" alt=\"Open In Colab\"/></a>"
      ]
    },
    {
      "cell_type": "markdown",
      "metadata": {
        "id": "jyQP-9Fni5Ue"
      },
      "source": [
        "<a href=\"https://colab.research.google.com/github/LMU-CMSI-1010/lab-notebooks-original/blob/main/Lab12.ipynb\" target=\"_parent\"><img src=\"https://colab.research.google.com/assets/colab-badge.svg\" alt=\"Open In Colab\"/></a>"
      ]
    },
    {
      "cell_type": "markdown",
      "metadata": {
        "id": "9aXfrLXg9seM"
      },
      "source": [
        "# Lab 12 Recursion Recursion\n",
        "This lab will give you the opportunity to write more recursive functions and to trace them.\n",
        "\n",
        "\n"
      ]
    },
    {
      "cell_type": "markdown",
      "metadata": {
        "id": "NeQK-bkp3AKI"
      },
      "source": [
        "## The Fibonacci Sequence\n",
        "A **sequence** is an ordered list of objects. In this case we will look at a sequence of numbers, the **Fibonacci Sequence**. We use variables such as f<sub>1</sub>, f<sub>2</sub>, f<sub>3</sub>, ... to mean the first number in the sequence, second number in the sequence, the third number in the sequence, and so forth.\n",
        "\n",
        "The **Fibonacci sequence** has the special relationship called a **recurrence** where we define a number in the sequence by the sum of the two numbers in the sequence before it. Let's look at the sequence now: <br>\n",
        "f<sub>1</sub> = 1, f<sub>2</sub> = 1, f<sub>3</sub> = 2, f<sub>4</sub> = 3, f<sub>5</sub> = 5, f<sub>6</sub> = 8, ...<br>\n",
        "Can you tell what f<sub>7</sub> should be? Let's look at the pattern. <br>\n",
        "We are given that f<sub>1</sub> is 1 and f<sub>2</sub> is 1. Those are the base cases. <br>\n",
        "Now look at the other terms: <br>\n",
        "f<sub>3</sub> = 2 = f<sub>1</sub> + f<sub>2</sub> = 1 + 1 <br>\n",
        "f<sub>4</sub> = 3 = f<sub>2</sub> + f<sub>3</sub> = 1 + 2 <br>\n",
        "f<sub>5</sub> = 5 = f<sub>3</sub> + f<sub>4</sub> = 2 + 3 <br>\n",
        "f<sub>6</sub> = 8 = f<sub>4</sub> + f<sub>5</sub> = 3 + 5 <br>\n",
        "If we continue this pattern for f<sub>7</sub> <br>\n",
        "f<sub>7</sub> = f<sub>5</sub> + f<sub>6</sub> = 5 + 8 = 13 <br>\n",
        "\n",
        "More generally, the n-th Fibonacci number equals the (n–2)-nd Fibonacci number plus the (n–1)-st Fibonacci number: <br>\n",
        "f<sub>n</sub> = f<sub>n–2</sub> + f<sub>n–1</sub> <br>\n",
        "\n",
        "**Do this:** In the following cell, you will **complete code to compute the n-th Fibonacci number**."
      ]
    },
    {
      "cell_type": "code",
      "execution_count": null,
      "metadata": {
        "id": "9sggpWEB33fV"
      },
      "outputs": [],
      "source": [
        "# TODO: fibonacci: Given an integer, n, greater than or equal to 1\n",
        "# returns the n-th Fibonacci number\n",
        "def fibonacci(n):\n",
        "    # Handle the error case if n is not greater than 0\n",
        "    # This case does not need to be changed\n",
        "    if n <= 0:\n",
        "        print('n must be greater than 0')\n",
        "        return None\n",
        "\n",
        "    # Base cases for f1 and f2\n",
        "    # Use the example above to return\n",
        "    # f1 and f2\n",
        "    # TODO: ADD CODE HERE\n",
        "    if (n == 1) or (n == 2):\n",
        "        return 1\n",
        "\n",
        "    # recursive case\n",
        "    # this should make two recursive calls\n",
        "    # that means it makes two calls to itself with\n",
        "    # different input. What should that input be?\n",
        "    # TODO: ADD CODE HERE\n",
        "    return (fibonacci(n-1)+fibonacci(n-2))\n",
        "\n",
        "    # TODO: Please remove the following line of code\n",
        "    # Right now this code returns 0 for any input greater\n",
        "    # than 0\n",
        "\n",
        "\n",
        "\n",
        "assert(fibonacci(7) == 13)\n",
        "assert(fibonacci(5) == 5)"
      ]
    },
    {
      "cell_type": "markdown",
      "metadata": {
        "id": "3NnTCLBI5nsb"
      },
      "source": [
        "### Tracing Fibonacci\n",
        "Now take a moment to see what is happening when you call your function `fibonacci(4)` in order to return the fourth Fibonacci number.\n",
        "\n",
        "**Do this:** Visualize the sequence of function calls made by your function when you call `fibonacci(4)` to return the fourth Fibonacci number either by hand or through PythonTutor. **Upload the resulting stack diagram to your lab notebooks repository and supply a plain language explanation of what is happening in the text box below:**\n",
        "\n"
      ]
    },
    {
      "cell_type": "markdown",
      "metadata": {
        "id": "AGLvvN4FQMcz"
      },
      "source": [
        "***\n",
        "**Do this:**\n",
        "So first fibonacci(4) is called. Since n does not equal 0, 1, or 2, it skips over those if statements and goes to the return line. However, before it can return a number, it must call fibonacci(n-1) which is fibonacci(3). Again, n does not equal 0, 1, or 2, so it skips them. Now, we must run fibonacci(n-1) again, with this time n being 3. So we're running fibonacci(2), and this time, it returns 1. Again, we have to run fibonacci(n-1) which is fibonacci(1). This also returns 1. Now, we know the return value of fibonacci(n-1), which is (4-1), or fibonacci(3), which is 2, because fibonacci(1)+fibonacci(2)=1+1=2. And we also know the return value of fibonacci(n-2), which is fibonacci(2), and it's 1. Finally, we get the return value of fibonacci(4), which is fibonacci(2)+fibonacci(3)=2+1=3.\n",
        "***"
      ]
    },
    {
      "cell_type": "markdown",
      "metadata": {
        "id": "VwQPNN6e6QI_"
      },
      "source": [
        "### Print a list backwards iteratively\n",
        "Given a list, **write an *iterative function* to print the list backwards one element at a time.**\n",
        "*Remember that iterative means to use a loop.*\n",
        "\n",
        "For example, if your function is given the list `[4, 7, 9, 2]`, your function should print\n",
        "```\n",
        "2 9 7 4\n",
        "```\n",
        "**Do this:** Complete the following function, `iterative_print_backwards`"
      ]
    },
    {
      "cell_type": "code",
      "execution_count": null,
      "metadata": {
        "colab": {
          "base_uri": "https://localhost:8080/"
        },
        "id": "rz-jwUKp6cUJ",
        "outputId": "3b064fb3-7f6f-4f65-b019-0cd2410bcac9"
      },
      "outputs": [
        {
          "output_type": "stream",
          "name": "stdout",
          "text": [
            "2974\n"
          ]
        }
      ],
      "source": [
        "# TODO: iterative_print_backwards: given a list, this function prints\n",
        "# the list backwards one item at a time followed by a new line.\n",
        "# This function should not return anything.\n",
        "\n",
        "def iterative_print_backwards(test):\n",
        "    # Use a loop to go through test list backwards\n",
        "    # printing each element one at a time\n",
        "    # TODO: ADD CODE HERE to go through the list\n",
        "        # ADD CODE to print the element\n",
        "        # To print a space between each element\n",
        "        # use `end` as shown below.\n",
        "        # This line prints the first element of\n",
        "        # the list if it exists---remove it\n",
        "        # once you finish the function.\n",
        "        for i in range(len(test)- 1, -1, -1):\n",
        "          print(test[i], end='')\n",
        "\n",
        "    # Print a new line for the entire list before returning\n",
        "    # This line below does not need to be changed\n",
        "        print()\n",
        "\n",
        "# Test the function by making function calls\n",
        "# You do not need to change the following line of code\n",
        "# You can add more function calls to test your function\n",
        "iterative_print_backwards([4, 7, 9, 2])"
      ]
    },
    {
      "cell_type": "markdown",
      "metadata": {
        "id": "90Zthmy_S6AS"
      },
      "source": [
        "### Print a list backwards recursively\n",
        "Given a list, **write a *recursive function* to print the list backwards one element at a time.**\n",
        "*Remember that **recursive** means that the function must call itself.*\n",
        "\n",
        "For example, if your function is given the list, `[4, 7, 9, 2]`, your function should print\n",
        "```\n",
        "2 9 7 4\n",
        "```\n",
        "**Do this:** Complete the following function, `recursive_print_backwards`"
      ]
    },
    {
      "cell_type": "code",
      "execution_count": null,
      "metadata": {
        "colab": {
          "base_uri": "https://localhost:8080/"
        },
        "id": "ew5_E0TaTJw3",
        "outputId": "fce1cc78-4789-4740-db85-5d90db55afff"
      },
      "outputs": [
        {
          "output_type": "stream",
          "name": "stdout",
          "text": [
            "2 9 7 4"
          ]
        }
      ],
      "source": [
        "# TODO: recursive_print_backwards: given a list, this function prints\n",
        "# the list backwards one item at a time followed by a new line.\n",
        "# This function should not return anything.\n",
        "\n",
        "def recursive_print_backwards(test):\n",
        "    # Go through list backwards printing each element one at a time\n",
        "    length = len(test)\n",
        "    # Base case: empty list, so nothing to print\n",
        "    if length == 0:\n",
        "        return\n",
        "\n",
        "    # Base case: single element\n",
        "    # TODO: Check for single element and print it\n",
        "    # followed by new line and return\n",
        "    # TODO: ADD CODE HERE\n",
        "    if length == 1:\n",
        "        print(test[0], end='')\n",
        "        return\n",
        "\n",
        "    # Recursive case\n",
        "    # print the last element (we did this for you already)\n",
        "    print(test[-1], end=' ')\n",
        "    # You will make another call to itself on a smaller list\n",
        "    # What list should be passed to the recursive call?\n",
        "    # TODO: ADD ONE LINE OF CODE HERE TO MAKE THE RECURSIVE CALL\n",
        "    recursive_print_backwards(test[:-1])\n",
        "\n",
        "# Test the function by making function calls\n",
        "# You do not need to change the following line of code\n",
        "# You can add more function calls to test your function\n",
        "recursive_print_backwards([4, 7, 9, 2])"
      ]
    },
    {
      "cell_type": "markdown",
      "metadata": {
        "id": "0PA2HcBPQDrf"
      },
      "source": [
        "**Do this:**  Visualize the sequence of function calls made `recursive_print_backwards` either by hand or through PythonTutor. Upload the resulting stack diagram to your lab notebooks repository and supply a plain language explanation of what is happening in the text box below:"
      ]
    },
    {
      "cell_type": "markdown",
      "metadata": {
        "id": "lPupPwlKQdbv"
      },
      "source": [
        "***\n",
        "\n",
        " The first call is to recursive_print_backwards ([4, 7, 9, 2]). Because the list has a length of 4 (it is not an empty list or a single member), we reach the recursive case. We print the last element, which is 2. The list is then used in a recursive call [4, 7, 9]. The list's length is thus 3 (no empty or single entry), and we enter the recursive situation. The last element, 9, is then printed. Following that, we do a recursive call using the list 4, 7]. We reach the recursive situation since the length of the list is 2 (not empty or single member). The final element, 7, is then printed. Then, using the list 4 1, we make a recursive call. The element is then printed, which is 4. We then return from the previous recursive call with the list [4, 1.] We then return from the previous recursive call with the list [4, 7.] The list [4. 7. 9, 2] is returned from the recursive call. The list [4, 7, 9, 2] is returned from the initial call.\n",
        "***"
      ]
    },
    {
      "cell_type": "markdown",
      "metadata": {
        "id": "dKL0LYd-E4JB"
      },
      "source": [
        "### (Optional) Reflections\n",
        "Add a text cell below to answer the following questions:\n",
        "1. What do you feel more confident about after completing this lab?\n",
        "2. What do you feel you can use more help with after completing this lab?\n",
        "3. Do you have any constructive suggestions on how we can help you or improve this lab?"
      ]
    },
    {
      "cell_type": "markdown",
      "metadata": {
        "id": "gB1aHDpyFYey"
      },
      "source": [
        "### Save your work to GitHub\n",
        "Please save this notebook to your lab repository."
      ]
    }
  ],
  "metadata": {
    "kernelspec": {
      "display_name": "Python 3",
      "language": "python",
      "name": "python3"
    },
    "language_info": {
      "codemirror_mode": {
        "name": "ipython",
        "version": 3
      },
      "file_extension": ".py",
      "mimetype": "text/x-python",
      "name": "python",
      "nbconvert_exporter": "python",
      "pygments_lexer": "ipython3",
      "version": "3.8.5"
    },
    "colab": {
      "provenance": [],
      "include_colab_link": true
    }
  },
  "nbformat": 4,
  "nbformat_minor": 0
}